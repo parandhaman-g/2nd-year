{
 "cells": [
  {
   "cell_type": "code",
   "execution_count": 1,
   "id": "a949ae45-8080-49e7-ad94-495fede941be",
   "metadata": {},
   "outputs": [],
   "source": [
    "import cv2 as cv\n",
    "import numpy as np"
   ]
  },
  {
   "cell_type": "code",
   "execution_count": 2,
   "id": "20d140a9-0ab9-49d3-ba08-d7c878970797",
   "metadata": {},
   "outputs": [],
   "source": [
    "import matplotlib as plt"
   ]
  },
  {
   "cell_type": "code",
   "execution_count": 26,
   "id": "71a8170f-66f7-452d-9d37-2f1a3fb43e50",
   "metadata": {},
   "outputs": [],
   "source": [
    "img=cv.imread(\"C:/Users/admin/Pictures/cv/soul nebula.jfif\")\n",
    "kernal=np.ones((150,150),np.float32)/22500\n",
    "kernal\n",
    "filter=cv.filter2D(img,-3,kernal)\n",
    "cv.imshow(\"image\",img)\n",
    "cv.imshow(\"filter\",filter)\n",
    "cv.waitKey(0)\n",
    "cv.destroyAllWindows()"
   ]
  },
  {
   "cell_type": "markdown",
   "id": "1a33a4da-ea1a-4aa8-b17e-83bea8efd1a2",
   "metadata": {
    "jp-MarkdownHeadingCollapsed": true
   },
   "source": [
    "# IMAGE BLURRING"
   ]
  },
  {
   "cell_type": "code",
   "execution_count": 3,
   "id": "26c75ce6-0bdf-47c2-add8-7573159d3703",
   "metadata": {},
   "outputs": [],
   "source": [
    "img=cv.imread(\"C:/Users/admin/Pictures/cv/soul nebula.jfif\")"
   ]
  },
  {
   "cell_type": "code",
   "execution_count": 23,
   "id": "7d94cfdb-6a2f-46a1-8c47-22e2ec80f0d7",
   "metadata": {},
   "outputs": [],
   "source": [
    "blur=cv.blur(img,(5,5))\n",
    "cv.imshow(\"image\",img)\n",
    "cv.imshow(\"blur\",blur)\n",
    "cv.waitKey(0)\n",
    "cv.destroyAllWindows()"
   ]
  },
  {
   "cell_type": "markdown",
   "id": "f35d1af8-18b6-4c53-af22-d0c8f16af603",
   "metadata": {
    "jp-MarkdownHeadingCollapsed": true
   },
   "source": [
    "# GAUSSIAN BLUR"
   ]
  },
  {
   "cell_type": "code",
   "execution_count": 4,
   "id": "b03af3b2-8ed2-403a-a865-ee490e1f6040",
   "metadata": {},
   "outputs": [],
   "source": [
    "img2=cv.imread(\"C:/Users/admin/Pictures/cv/hgfv.jfif\")"
   ]
  },
  {
   "cell_type": "code",
   "execution_count": 53,
   "id": "34b08b55-22c0-47b7-b633-139952123aed",
   "metadata": {},
   "outputs": [],
   "source": [
    "gblur=cv.GaussianBlur(img2,(5,5),0)\n",
    "cv.imshow(\"image\",img2)\n",
    "cv.imshow(\"blur\",gblur)\n",
    "cv.waitKey(0)\n",
    "cv.destroyAllWindows()"
   ]
  },
  {
   "cell_type": "markdown",
   "id": "34fc161d-ed9e-45ef-9c8e-388415eb2fa5",
   "metadata": {
    "jp-MarkdownHeadingCollapsed": true
   },
   "source": [
    "# BILATERAL FILTER"
   ]
  },
  {
   "cell_type": "code",
   "execution_count": 4,
   "id": "803120fe-dd2b-416c-b2b1-7ae7bc2243ab",
   "metadata": {},
   "outputs": [],
   "source": [
    "bilblur=cv.bilateralFilter(img2,5,150,150)\n",
    "cv.imshow(\"image\",img2)\n",
    "cv.imshow(\"blur\",bilblur)\n",
    "cv.waitKey(0)\n",
    "cv.destroyAllWindows()"
   ]
  },
  {
   "cell_type": "markdown",
   "id": "e6c9177c-5ec3-45cb-81d3-309240942add",
   "metadata": {
    "jp-MarkdownHeadingCollapsed": true
   },
   "source": [
    "# MEDIAN FILTER"
   ]
  },
  {
   "cell_type": "code",
   "execution_count": 6,
   "id": "321e5131-7aff-4dd4-a6ad-dc852006a44a",
   "metadata": {},
   "outputs": [],
   "source": [
    "img3=cv.imread(\"C:/Users/admin/Pictures/cv/casalina.jpg\")"
   ]
  },
  {
   "cell_type": "code",
   "execution_count": null,
   "id": "dc887027-0550-4e23-9fc1-12134b3536c1",
   "metadata": {},
   "outputs": [],
   "source": [
    "mfil=cv.medianBlur(img3,3)\n",
    "cv.imshow(\"image\",img3)\n",
    "cv.imshow(\"blur\",mfil)\n",
    "cv.waitKey(0)\n",
    "cv.destroyAllWindows()"
   ]
  },
  {
   "cell_type": "markdown",
   "id": "4279dd58-30b4-4c1d-969d-46521b3861d9",
   "metadata": {},
   "source": [
    "# LAPLACIAN  FILTER"
   ]
  },
  {
   "cell_type": "code",
   "execution_count": 23,
   "id": "3e76ecae-1dca-4168-8e0b-fc75d7258834",
   "metadata": {},
   "outputs": [],
   "source": [
    "img4=cv.imread(\"C:/Users/admin/Pictures/cv/buterrfly.jpg\",0)"
   ]
  },
  {
   "cell_type": "code",
   "execution_count": 44,
   "id": "070d1fce-6407-4c0b-a782-f77d22ff4f4b",
   "metadata": {},
   "outputs": [],
   "source": [
    "lap=cv.Laplacian(img4,cv.CV_64F,ksize=9)\n",
    "lap\n",
    "cv.imshow(\"LAP\",lap)\n",
    "cv.imshow(\"IMG\",img4)\n",
    "cv.waitKey(0)\n",
    "cv.destroyAllWindows()"
   ]
  },
  {
   "cell_type": "markdown",
   "id": "53da5cba-056f-47a2-863a-ee3c8e0e5184",
   "metadata": {},
   "source": [
    "# SOBEL FILTER"
   ]
  },
  {
   "cell_type": "code",
   "execution_count": 45,
   "id": "e4ee4cf4-8315-4523-9bcb-034bafdfbb58",
   "metadata": {},
   "outputs": [],
   "source": [
    "img4=cv.imread(\"C:/Users/admin/Pictures/cv/buterrfly.jpg\",0)"
   ]
  },
  {
   "cell_type": "code",
   "execution_count": 49,
   "id": "7daab98f-f466-471a-8273-71640a337e65",
   "metadata": {},
   "outputs": [],
   "source": [
    "sobx=cv.Sobel(img4,cv.CV_64F,1,0,ksize=5)\n",
    "soby=cv.Sobel(img4,cv.CV_64F,0,1,ksize=5)\n",
    "sobx1=np.uint8(np.absolute(sobx))\n",
    "cv.imshow(\"image\",img4)\n",
    "cv.imshow(\"sobel 0\",sobx)\n",
    "cv.imshow(\"sobel 1\",soby)\n",
    "cv.imshow(\"sobel 2\",sobx1)\n",
    "cv.waitKey(0)\n",
    "cv.destroyAllWindows()"
   ]
  },
  {
   "cell_type": "code",
   "execution_count": null,
   "id": "d7fd0369-9cc9-43d0-af11-7e96734b022c",
   "metadata": {},
   "outputs": [],
   "source": []
  }
 ],
 "metadata": {
  "kernelspec": {
   "display_name": "Python 3 (ipykernel)",
   "language": "python",
   "name": "python3"
  },
  "language_info": {
   "codemirror_mode": {
    "name": "ipython",
    "version": 3
   },
   "file_extension": ".py",
   "mimetype": "text/x-python",
   "name": "python",
   "nbconvert_exporter": "python",
   "pygments_lexer": "ipython3",
   "version": "3.9.18"
  }
 },
 "nbformat": 4,
 "nbformat_minor": 5
}
